{
 "cells": [
  {
   "cell_type": "code",
   "execution_count": 1,
   "id": "7332cc7d-779a-4c9f-97ad-2a81bcf39526",
   "metadata": {},
   "outputs": [
    {
     "name": "stdout",
     "output_type": "stream",
     "text": [
      "Welcome to Alahram Library!\n",
      "\n",
      "Books available in the library:\n",
      "- All or Nothing\n",
      "- Inception\n",
      "- The Last Dance\n",
      "\n",
      "Book 'Inception' has been lent to Mohamed.\n",
      "\n",
      "Sorry, the book 'Inception' is already lent to Mohamed.\n",
      "\n",
      "Book 'Aly baba' has been added to the library.\n",
      "\n",
      "Thank you for returning the book 'Inception'.\n",
      "\n",
      "The book '911' was not borrowed from this library.\n",
      "\n",
      "Books available in the library:\n",
      "- All or Nothing\n",
      "- The Last Dance\n",
      "- Aly baba\n",
      "- Inception\n"
     ]
    }
   ],
   "source": [
    "class Library:\n",
    "    def __init__(self, library_name, books_list):\n",
    "        self.library_name = library_name\n",
    "        self.books_list = books_list\n",
    "        self.lended_books = {}\n",
    "\n",
    "    def display_books(self):\n",
    "        print(\"\\nBooks available in the library:\")\n",
    "        if self.books_list:\n",
    "            for book in self.books_list:\n",
    "                print(f\"- {book}\")\n",
    "        else:\n",
    "            print(\"No books are currently available.\")\n",
    "\n",
    "    def lend_book(self, book, user):\n",
    "        if book in self.books_list:\n",
    "            self.books_list.remove(book)\n",
    "            self.lended_books[book] = user\n",
    "            print(f\"\\nBook '{book}' has been lent to {user}.\")\n",
    "        elif book in self.lended_books:\n",
    "            print(f\"\\nSorry, the book '{book}' is already lent to {self.lended_books[book]}.\")\n",
    "        else:\n",
    "            print(f\"\\nSorry, the book '{book}' is not available in the library.\")\n",
    "\n",
    "    def add_book(self, book):\n",
    "        if book not in self.books_list and book not in self.lended_books:\n",
    "            self.books_list.append(book)\n",
    "            print(f\"\\nBook '{book}' has been added to the library.\")\n",
    "        else:\n",
    "            print(f\"\\nThe book '{book}' is already in the library or lent out.\")\n",
    "\n",
    "    def return_book(self, book):\n",
    "        if book in self.lended_books:\n",
    "            self.lended_books.pop(book)\n",
    "            self.books_list.append(book)\n",
    "            print(f\"\\nThank you for returning the book '{book}'.\")\n",
    "        else:\n",
    "            print(f\"\\nThe book '{book}' was not borrowed from this library.\")\n",
    "\n",
    "\n",
    "alahram_library = Library(\"Alahram\", [\"All or Nothing\", \"Inception\", \"The Last Dance\"])\n",
    "\n",
    "print(f\"Welcome to {alahram_library.library_name} Library!\")\n",
    "\n",
    "alahram_library.display_books()\n",
    "alahram_library.lend_book(\"Inception\", \"Mohamed\")\n",
    "alahram_library.lend_book(\"Inception\", \"Aly\")\n",
    "alahram_library.add_book(\"Aly baba\")\n",
    "alahram_library.return_book(\"Inception\")\n",
    "alahram_library.return_book(\"911\")\n",
    "alahram_library.display_books()"
   ]
  },
  {
   "cell_type": "code",
   "execution_count": null,
   "id": "6f041386-16e5-450c-9a41-5fe1d612c6f3",
   "metadata": {},
   "outputs": [],
   "source": []
  }
 ],
 "metadata": {
  "kernelspec": {
   "display_name": "Python 3 (ipykernel)",
   "language": "python",
   "name": "python3"
  },
  "language_info": {
   "codemirror_mode": {
    "name": "ipython",
    "version": 3
   },
   "file_extension": ".py",
   "mimetype": "text/x-python",
   "name": "python",
   "nbconvert_exporter": "python",
   "pygments_lexer": "ipython3",
   "version": "3.12.7"
  }
 },
 "nbformat": 4,
 "nbformat_minor": 5
}
