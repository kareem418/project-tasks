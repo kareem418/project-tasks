{
 "cells": [
  {
   "cell_type": "code",
   "execution_count": null,
   "id": "9b944fed-1d54-47a5-abfe-e255eaf7cd00",
   "metadata": {},
   "outputs": [
    {
     "name": "stdout",
     "output_type": "stream",
     "text": [
      "Welcome to CodeWithHarry Library!\n",
      "\n",
      "Choose an option:\n",
      "1. Display Books\n",
      "2. Lend a Book\n",
      "3. Add a Book\n",
      "4. Return a Book\n",
      "5. Exit\n"
     ]
    }
   ],
   "source": [
    "class Library:\n",
    "    def __init__(self, library_name, books_list):\n",
    "        self.library_name = library_name\n",
    "        self.books_list = books_list\n",
    "        self.lent_books = {}\n",
    "\n",
    "    def display_books(self):\n",
    "        print(\"\\nBooks available in the library:\")\n",
    "        for book in self.books_list:\n",
    "            print(f\"- {book}\")\n",
    "\n",
    "    def lend_book(self, book, user):\n",
    "        if book in self.books_list:\n",
    "            self.books_list.remove(book)\n",
    "            self.lent_books[book] = user\n",
    "            print(f\"\\nBook '{book}' has been lent to {user}.\")\n",
    "        elif book in self.lent_books:\n",
    "            print(f\"\\nSorry, the book '{book}' is already lent to {self.lent_books[book]}.\")\n",
    "        else:\n",
    "            print(f\"\\nSorry, the book '{book}' is not available in the library.\")\n",
    "\n",
    "    def add_book(self, book):\n",
    "        if book not in self.books_list:\n",
    "            self.books_list.append(book)\n",
    "            print(f\"\\nBook '{book}' has been added to the library.\")\n",
    "        else:\n",
    "            print(f\"\\nThe book '{book}' is already in the library.\")\n",
    "\n",
    "    def return_book(self, book):\n",
    "        if book in self.lent_books:\n",
    "            self.lent_books.pop(book)\n",
    "            self.books_list.append(book)\n",
    "            print(f\"\\nThank you for returning the book '{book}'.\")\n",
    "        else:\n",
    "            print(f\"\\nThe book '{book}' was not lent from this library.\")\n",
    "\n",
    "\n",
    "harry = Library(\"CodeWithHarry\", ['Python', 'Rich Daddy Poor Daddy', 'Harry Potter', 'C++ Basics', 'Algorithms by CLRS'])\n",
    "\n",
    "print(f\"Welcome to {harry.library_name} Library!\")\n",
    "\n",
    "while True:\n",
    "    print(\"\\nChoose an option:\")\n",
    "    print(\"1. Display Books\")\n",
    "    print(\"2. Lend a Book\")\n",
    "    print(\"3. Add a Book\")\n",
    "    print(\"4. Return a Book\")\n",
    "    print(\"5. Exit\")\n",
    "\n",
    "    try:\n",
    "        choice = int(input(\"\\nEnter your choice (1-5): \"))\n",
    "        if choice == 1:\n",
    "            harry.display_books()\n",
    "        elif choice == 2:\n",
    "            book_name = input(\"\\nEnter the name of the book you want to lend: \")\n",
    "            user_name = input(\"Enter your name: \")\n",
    "            harry.lend_book(book_name, user_name)\n",
    "        elif choice == 3:\n",
    "            book_name = input(\"\\nEnter the name of the book you want to add: \")\n",
    "            harry.add_book(book_name)\n",
    "        elif choice == 4:\n",
    "            book_name = input(\"\\nEnter the name of the book you want to return: \")\n",
    "            harry.return_book(book_name)\n",
    "        elif choice == 5:\n",
    "            print(\"\\nThank you for visiting the library. Goodbye!\")\n",
    "            break\n",
    "        else:\n",
    "            print(\"\\nInvalid choice! Please select a valid option.\")\n",
    "    except ValueError:\n",
    "        print(\"\\nPlease enter a valid number.\")"
   ]
  },
  {
   "cell_type": "code",
   "execution_count": null,
   "id": "cdd5b6b7-a22d-4533-90a2-582bea8d2ac8",
   "metadata": {},
   "outputs": [],
   "source": []
  }
 ],
 "metadata": {
  "kernelspec": {
   "display_name": "Python 3 (ipykernel)",
   "language": "python",
   "name": "python3"
  },
  "language_info": {
   "codemirror_mode": {
    "name": "ipython",
    "version": 3
   },
   "file_extension": ".py",
   "mimetype": "text/x-python",
   "name": "python",
   "nbconvert_exporter": "python",
   "pygments_lexer": "ipython3",
   "version": "3.12.7"
  }
 },
 "nbformat": 4,
 "nbformat_minor": 5
}
