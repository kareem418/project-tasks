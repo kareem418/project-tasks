{
 "cells": [
  {
   "cell_type": "code",
   "execution_count": 4,
   "id": "53374b12-cd1b-4f77-81de-be78369df7fd",
   "metadata": {},
   "outputs": [
    {
     "name": "stdout",
     "output_type": "stream",
     "text": [
      "'all or nothing' has been added to the library.\n",
      "'inception' has been added to the library.\n",
      "'the last dance' has been added to the library.\n",
      "Available Books:\n",
      "- all or nothing\n",
      "- inception\n",
      "- the last dance\n",
      "'all or nothing' has been lent to Aly.\n",
      "'inception' has been lent to Belal.\n",
      "Available Books:\n",
      "- the last dance\n",
      "'all or nothing' has been returned by Aly.\n",
      "Available Books:\n",
      "- all or nothing\n",
      "- the last dance\n"
     ]
    }
   ],
   "source": [
    "class Library:\n",
    "    def __init__(self, name):\n",
    "        self.name = name\n",
    "        self.books = {}\n",
    "        self.lended_books = {}\n",
    "\n",
    "    def add_book(self, book_name):\n",
    "        if book_name not in self.books:\n",
    "            self.books[book_name] = True\n",
    "            print(f\"'{book_name}' has been added to the library.\")\n",
    "        else:\n",
    "            print(f\"The book '{book_name}' already exists in the library.\")\n",
    "\n",
    "    def display_available_books(self):\n",
    "        available_books = [book for book, available in self.books.items() if available]\n",
    "        if available_books:\n",
    "            print(\"Available Books:\")\n",
    "            for book in available_books:\n",
    "                print(f\"- {book}\")\n",
    "        else:\n",
    "            print(\"No books are available at the moment.\")\n",
    "\n",
    "    def lend_book(self, user, book_name):\n",
    "        if book_name not in self.books:\n",
    "            print(f\"Sorry, '{book_name}' is not available in the library.\")\n",
    "        elif not self.books[book_name]:\n",
    "            print(f\"Sorry, '{book_name}' is already lent out.\")\n",
    "        else:\n",
    "            self.books[book_name] = False\n",
    "            self.lended_books[book_name] = user\n",
    "            print(f\"'{book_name}' has been lent to {user}.\")\n",
    "\n",
    "    def return_book(self, user, book_name):\n",
    "        if book_name in self.lended_books and self.lended_books[book_name] == user:\n",
    "            self.books[book_name] = True\n",
    "            del self.lended_books[book_name]\n",
    "            print(f\"'{book_name}' has been returned by {user}.\")\n",
    "        else:\n",
    "            print(f\"Error: {user} did not borrow the book '{book_name}'.\")\n",
    "\n",
    "library = Library(\"Alahram Library\")\n",
    "\n",
    "library.add_book(\"all or nothing\")\n",
    "library.add_book(\"inception\")\n",
    "library.add_book(\"the last dance\")\n",
    "\n",
    "library.display_available_books()\n",
    "\n",
    "library.lend_book(\"Aly\", \"all or nothing\")\n",
    "library.lend_book(\"Belal\", \"inception\")\n",
    "\n",
    "library.display_available_books()\n",
    "\n",
    "library.return_book(\"Aly\", \"all or nothing\")\n",
    "\n",
    "library.display_available_books()\n"
   ]
  },
  {
   "cell_type": "code",
   "execution_count": null,
   "id": "fbc4ab2a-9eea-464f-b5d2-bc0bbcc29be8",
   "metadata": {},
   "outputs": [],
   "source": []
  }
 ],
 "metadata": {
  "kernelspec": {
   "display_name": "Python 3 (ipykernel)",
   "language": "python",
   "name": "python3"
  },
  "language_info": {
   "codemirror_mode": {
    "name": "ipython",
    "version": 3
   },
   "file_extension": ".py",
   "mimetype": "text/x-python",
   "name": "python",
   "nbconvert_exporter": "python",
   "pygments_lexer": "ipython3",
   "version": "3.12.7"
  }
 },
 "nbformat": 4,
 "nbformat_minor": 5
}
